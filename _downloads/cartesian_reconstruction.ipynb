{
  "nbformat_minor": 0, 
  "nbformat": 4, 
  "cells": [
    {
      "execution_count": null, 
      "cell_type": "code", 
      "source": [
        "%matplotlib inline"
      ], 
      "outputs": [], 
      "metadata": {
        "collapsed": false
      }
    }, 
    {
      "source": [
        "\nNeuroimaging cartesian reconstruction\n=====================================\n\nCredit: A Grigis, L Elgueddari, H Carrie\n\nIn this tutorial we will reconstruct an MRI image from the sparse kspace\nmeasurments.\n\nImport neuroimaging data\n------------------------\n\nWe use the toy datasets available in pysap, more specifically a 2D brain slice\nand the acquistion cartesian scheme.\nWe also add some gaussian noise in the image space.\n\n"
      ], 
      "cell_type": "markdown", 
      "metadata": {}
    }, 
    {
      "execution_count": null, 
      "cell_type": "code", 
      "source": [
        "# Package import\nimport pysap\nfrom pysap.data import get_sample_data\nfrom pysap.plugins.mri.reconstruct.reconstruct import sparse_rec_fista\nfrom pysap.plugins.mri.reconstruct.reconstruct import sparse_rec_condatvu\nfrom pysap.plugins.mri.reconstruct.utils import convert_mask_to_locations\n\n# Third party import\nimport numpy as np\nimport scipy.fftpack as pfft\n\n# Loading input data\nimage = get_sample_data(\"mri-slice-nifti\")\nimage.data += np.random.randn(*image.shape) * 20.\nmask = get_sample_data(\"mri-mask\")\nimage.show()\nmask.show()"
      ], 
      "outputs": [], 
      "metadata": {
        "collapsed": false
      }
    }, 
    {
      "source": [
        "Generate the kspace\n-------------------\n\nFrom the 2D brain slice and the acquistion mask, we generate the acquisition\nmeasurments, the observed kspace.\nWe then reconstruct the zero order solution.\n\n"
      ], 
      "cell_type": "markdown", 
      "metadata": {}
    }, 
    {
      "execution_count": null, 
      "cell_type": "code", 
      "source": [
        "# Generate the subsampled kspace\nkspace_mask = pfft.ifftshift(mask.data)\nkspace_data = pfft.fft2(image.data) * kspace_mask\n\n# Get the locations of the kspace samples\nkspace_loc = convert_mask_to_locations(kspace_mask)\n\n# Zero order solution\nimage_rec0 = pysap.Image(data=pfft.ifft2(kspace_data), metadata=image.metadata)\nimage_rec0.show()"
      ], 
      "outputs": [], 
      "metadata": {
        "collapsed": false
      }
    }, 
    {
      "source": [
        "FISTA optimization\n------------------\n\nWe now want to refine the zero order solution using a FISTA optimization.\nHere no cost function is set, and the optimization will reach the\nmaximum number of iterations. Fill free to play with this parameter.\n\n"
      ], 
      "cell_type": "markdown", 
      "metadata": {}
    }, 
    {
      "execution_count": null, 
      "cell_type": "code", 
      "source": [
        "# Start the FISTA reconstruction\nmax_iter = 20\nx_final, transform = sparse_rec_fista(\n    data=kspace_data,\n    wavelet_name=\"BsplineWaveletTransformATrousAlgorithm\",\n    samples=kspace_loc,\n    mu=1e-9,\n    nb_scales=4,\n    lambda_init=1.0,\n    max_nb_of_iter=max_iter,\n    atol=1e-4,\n    verbose=1)\nimage_rec = pysap.Image(data=np.abs(x_final))\nimage_rec.show()"
      ], 
      "outputs": [], 
      "metadata": {
        "collapsed": false
      }
    }, 
    {
      "source": [
        "Condata-Vu optimization\n-----------------------\n\nWe now want to refine the zero order solution using a Condata-Vu\noptimization.\nHere no cost function is set, and the optimization will reach the\nmaximum number of iterations. Fill free to play with this parameter.\n\n"
      ], 
      "cell_type": "markdown", 
      "metadata": {}
    }, 
    {
      "execution_count": null, 
      "cell_type": "code", 
      "source": [
        "# Start the CONDAT-VU reconstruction\nmax_iter = 20\nx_final, transform = sparse_rec_condatvu(\n    data=kspace_data,\n    wavelet_name=\"BsplineWaveletTransformATrousAlgorithm\",\n    samples=kspace_loc,\n    nb_scales=4,\n    std_est=None,\n    std_est_method=\"dual\",\n    std_thr=2.,\n    mu=1e-9,\n    tau=None,\n    sigma=None,\n    relaxation_factor=1.0,\n    nb_of_reweights=2,\n    max_nb_of_iter=max_iter,\n    add_positivity=False,\n    atol=1e-4,\n    verbose=1)\nimage_rec = pysap.Image(data=np.abs(x_final))\nimage_rec.show()"
      ], 
      "outputs": [], 
      "metadata": {
        "collapsed": false
      }
    }
  ], 
  "metadata": {
    "kernelspec": {
      "display_name": "Python 2", 
      "name": "python2", 
      "language": "python"
    }, 
    "language_info": {
      "mimetype": "text/x-python", 
      "nbconvert_exporter": "python", 
      "name": "python", 
      "file_extension": ".py", 
      "version": "2.7.12", 
      "pygments_lexer": "ipython2", 
      "codemirror_mode": {
        "version": 2, 
        "name": "ipython"
      }
    }
  }
}