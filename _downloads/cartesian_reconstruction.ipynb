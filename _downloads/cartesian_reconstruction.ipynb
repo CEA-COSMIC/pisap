{
  "cells": [
    {
      "cell_type": "code",
      "metadata": {
        "collapsed": false
      },
      "source": [
        "%matplotlib inline"
      ],
      "execution_count": null,
      "outputs": []
    },
    {
      "cell_type": "markdown",
      "metadata": {},
      "source": [
        "\nNeuroimaging cartesian reconstruction\n=====================================\n\nAuthor: Chaithya G R\n\nIn this tutorial we will reconstruct an MRI image from the sparse kspace\nmeasurements.\n\nImport neuroimaging data\n------------------------\n\nWe use the toy datasets available in pysap, more specifically a 2D brain slice\nand the cartesian acquisition scheme.\n\n"
      ]
    },
    {
      "cell_type": "code",
      "metadata": {
        "collapsed": false
      },
      "source": [
        "# Package import\nfrom modopt.math.metrics import ssim\nfrom mri.numerics.fourier import FFT2\nfrom mri.numerics.reconstruct import sparse_rec_fista\nfrom mri.numerics.utils import generate_operators\nfrom mri.numerics.utils import convert_mask_to_locations\nfrom pysap.data import get_sample_data\nimport pysap\n\n# Third party import\nimport numpy as np\n\n# Loading input data\nimage = get_sample_data('2d-mri')\n\n# Obtain K-Space Cartesian Mask\nmask = get_sample_data(\"cartesian-mri-mask\")\n\n# View Input\nimage.show()\nmask.show()"
      ],
      "execution_count": null,
      "outputs": []
    },
    {
      "cell_type": "markdown",
      "metadata": {},
      "source": [
        "Generate the kspace\n-------------------\n\nFrom the 2D brain slice and the acquisition mask, we retrospectively\nundersample the k-space using a cartesian acquisition mask\nWe then reconstruct the zero order solution as a baseline\n\n"
      ]
    },
    {
      "cell_type": "code",
      "metadata": {
        "collapsed": false
      },
      "source": [
        "# Get the locations of the kspace samples\nkspace_loc = convert_mask_to_locations(np.fft.fftshift(mask.data))\n# Generate the subsampled kspace\nfourier_op = FFT2(samples=kspace_loc, shape=image.shape)\nkspace_data = fourier_op.op(image)\n\n# Zero order solution\nimage_rec0 = pysap.Image(data=fourier_op.adj_op(kspace_data),\n                         metadata=image.metadata)\nimage_rec0.show()\n\n# Calculate SSIM\nbase_ssim = ssim(image_rec0, image)\nprint(base_ssim)"
      ],
      "execution_count": null,
      "outputs": []
    },
    {
      "cell_type": "markdown",
      "metadata": {},
      "source": [
        "FISTA optimization\n------------------\n\nWe now want to refine the zero order solution using a FISTA optimization.\nThe cost function is set to Proximity Cost + Gradient Cost\n\n"
      ]
    },
    {
      "cell_type": "code",
      "metadata": {
        "collapsed": false
      },
      "source": [
        "# Generate operators\ngradient_op, linear_op, prox_op, cost_op = generate_operators(\n    data=kspace_data,\n    wavelet_name=\"sym8\",\n    samples=kspace_loc,\n    nb_scales=4,\n    mu=2 * 1e-7,\n    non_cartesian=False,\n    uniform_data_shape=None,\n    gradient_space=\"synthesis\",\n    padding_mode=\"periodization\")\n\n# Start the FISTA reconstruction\nmax_iter = 200\nx_final, costs, metrics = sparse_rec_fista(\n    gradient_op,\n    linear_op,\n    prox_op,\n    cost_op,\n    lambda_init=1,\n    max_nb_of_iter=max_iter,\n    atol=1e-4,\n    verbose=1)\nimage_rec = pysap.Image(data=np.abs(x_final))\nimage_rec.show()\n# Calculate SSIM\nrecon_ssim = ssim(image_rec, image)\nprint('The Reconstruction SSIM is : ' + str(recon_ssim))"
      ],
      "execution_count": null,
      "outputs": []
    }
  ],
  "metadata": {
    "language_info": {
      "pygments_lexer": "ipython3",
      "name": "python",
      "version": "3.5.2",
      "mimetype": "text/x-python",
      "nbconvert_exporter": "python",
      "codemirror_mode": {
        "name": "ipython",
        "version": 3
      },
      "file_extension": ".py"
    },
    "kernelspec": {
      "display_name": "Python 3",
      "name": "python3",
      "language": "python"
    }
  },
  "nbformat": 4,
  "nbformat_minor": 0
}