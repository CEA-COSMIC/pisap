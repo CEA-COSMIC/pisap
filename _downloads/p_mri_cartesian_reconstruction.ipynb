{
  "nbformat_minor": 0, 
  "nbformat": 4, 
  "cells": [
    {
      "execution_count": null, 
      "cell_type": "code", 
      "source": [
        "%matplotlib inline"
      ], 
      "outputs": [], 
      "metadata": {
        "collapsed": false
      }
    }, 
    {
      "source": [
        "\nNeuroimaging cartesian reconstruction\n=====================================\n\nCredit: L Elgueddari\n\nIn this tutorial we will reconstruct an MRI image from the sparse kspace\nmeasurments.\n\nImport neuroimaging data\n------------------------\n\nWe use the toy datasets available in pysap, more specifically a 2D brain slice\nand the acquistion cartesian scheme.\nWe also add some gaussian noise in the image space.\n\n"
      ], 
      "cell_type": "markdown", 
      "metadata": {}
    }, 
    {
      "execution_count": null, 
      "cell_type": "code", 
      "source": [
        "# Package import\nimport pysap\nfrom pysap.data import get_sample_data\nfrom pysap.plugins.mri.reconstruct.linear import Wavelet2\nfrom pysap.plugins.mri.reconstruct.reconstruct import FFT2\nfrom pysap.plugins.mri.parallel_mri.utils import prod_over_maps\nfrom pysap.plugins.mri.parallel_mri.utils import function_over_maps\nfrom pysap.plugins.mri.parallel_mri.reconstruct import sparse_rec_fista\nfrom pysap.plugins.mri.parallel_mri.reconstruct import sparse_rec_condatvu\nfrom pysap.plugins.mri.reconstruct.utils import convert_mask_to_locations\nfrom pysap.plugins.mri.parallel_mri.gradient import Grad2D_pMRI\n# from pysap.plugins.mri.parallel_mri.gradient import Grad2D_pMRI_synthesis\nfrom pysap.plugins.mri.parallel_mri.extract_sensitivity_maps import get_Smaps\n\n# Third party import\nimport numpy as np\nimport scipy.fftpack as pfft\nfrom scipy.io import loadmat\nimport matplotlib.pyplot as plt\n\n# Loading input data\nimage_name = '/home/loubnaelgueddari/Data'\\\n            '/meas_MID41_CSGRE_ref_OS1_FID14687.mat'\nk_space_ref = loadmat(image_name)['ref']\nk_space_ref /= np.linalg.norm(k_space_ref)\nSmaps, SOS = get_Smaps(k_space_ref, (512, 512), mode='FFT')\nmask = get_sample_data(\"mri-mask\")\n# mask.show()\nimage = pysap.Image(data=np.abs(SOS), metadata=mask.metadata)\nimage.show()"
      ], 
      "outputs": [], 
      "metadata": {
        "collapsed": false
      }
    }, 
    {
      "source": [
        "Generate the kspace\n-------------------\n\nFrom the 2D brain slice and the acquistion mask, we generate the acquisition\nmeasurments, the observed kspace.\nWe then reconstruct the zero order solution.\n\n"
      ], 
      "cell_type": "markdown", 
      "metadata": {}
    }, 
    {
      "execution_count": null, 
      "cell_type": "code", 
      "source": [
        "# Generate the subsampled kspace\nSl = prod_over_maps(Smaps, SOS)\nkspace_data = function_over_maps(pfft.fft2, Sl)\nkspace_data = prod_over_maps(kspace_data, mask.data)\nmask.show()\n# Get the locations of the kspace samples\nkspace_loc = convert_mask_to_locations(mask.data)"
      ], 
      "outputs": [], 
      "metadata": {
        "collapsed": false
      }
    }, 
    {
      "source": [
        "FISTA optimization\n------------------\n\nWe now want to refine the zero order solution using a FISTA optimization.\nHere no cost function is set, and the optimization will reach the\nmaximum number of iterations. Fill free to play with this parameter.\n\n"
      ], 
      "cell_type": "markdown", 
      "metadata": {}
    }, 
    {
      "execution_count": null, 
      "cell_type": "code", 
      "source": [
        "# Start the FISTA reconstruction\nmax_iter = 10\n\nlinear_op = Wavelet2(wavelet_name=\"UndecimatedBiOrthogonalTransform\",\n                     nb_scale=4)\n\nfourier_op = FFT2(samples=kspace_loc, shape=(512, 512))\ngradient_op = Grad2D_pMRI(data=kspace_data,\n                          fourier_op=fourier_op,\n                          linear_op=linear_op,\n                          S=Smaps)\n\nx_final, transform, cost = sparse_rec_fista(\n    gradient_op=gradient_op,\n    linear_op=linear_op,\n    mu=1e-9,\n    lambda_init=1.0,\n    max_nb_of_iter=max_iter,\n    atol=1e-4,\n    verbose=1,\n    get_cost=True)\nimage_rec = pysap.Image(data=np.abs(x_final))\nimage_rec.show()\n\nplt.figure()\nplt.plot(cost)\nplt.show()"
      ], 
      "outputs": [], 
      "metadata": {
        "collapsed": false
      }
    }, 
    {
      "source": [
        "Condata-Vu optimization\n-----------------------\n\nWe now want to refine the zero order solution using a Condata-Vu\noptimization.\nHere no cost function is set, and the optimization will reach the\nmaximum number of iterations. Fill free to play with this parameter.\n\n"
      ], 
      "cell_type": "markdown", 
      "metadata": {}
    }, 
    {
      "execution_count": null, 
      "cell_type": "code", 
      "source": [
        "# Start the CONDAT-VU reconstruction\nmax_iter = 1\ngradient_op_cd = Grad2D_pMRI(data=kspace_data,\n                             fourier_op=fourier_op,\n                             S=Smaps)\nx_final, transform = sparse_rec_condatvu(\n    gradient_op=gradient_op_cd,\n    linear_op=linear_op,\n    std_est=None,\n    std_est_method=\"dual\",\n    std_thr=2.,\n    mu=0,\n    tau=None,\n    sigma=None,\n    relaxation_factor=1.0,\n    nb_of_reweights=0,\n    max_nb_of_iter=max_iter,\n    add_positivity=False,\n    atol=1e-4,\n    verbose=1)\n\nimage_rec = pysap.Image(data=np.abs(x_final))\nimage_rec.show()"
      ], 
      "outputs": [], 
      "metadata": {
        "collapsed": false
      }
    }
  ], 
  "metadata": {
    "kernelspec": {
      "display_name": "Python 2", 
      "name": "python2", 
      "language": "python"
    }, 
    "language_info": {
      "mimetype": "text/x-python", 
      "nbconvert_exporter": "python", 
      "name": "python", 
      "file_extension": ".py", 
      "version": "2.7.12", 
      "pygments_lexer": "ipython2", 
      "codemirror_mode": {
        "version": 2, 
        "name": "ipython"
      }
    }
  }
}