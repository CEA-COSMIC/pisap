{
  "cells": [
    {
      "cell_type": "code",
      "metadata": {
        "collapsed": false
      },
      "source": [
        "%matplotlib inline"
      ],
      "execution_count": null,
      "outputs": []
    },
    {
      "cell_type": "markdown",
      "metadata": {},
      "source": [
        "\nAnstronomic/Neuroimaging common structure overview\n==================================================\n\nCredit: A Grigis\n\npysap is a Python package related to sparsity and its application in\nastronomical or mediacal data analysis. This package also bind the 'sparse2d'\nC++ library that allows fast and extended sparse decomposition, denoising and\ndeconvolution. It is accessible to everybody, and is reusable in various\ncontexts. The project is hosted on github: https://github.com/CEA-COSMIC/pysap.\n\nFirst checks\n------------\n\nIn order to test if the 'pysap' package is installed on your machine, you can\ncheck the package version\n\n"
      ]
    },
    {
      "cell_type": "code",
      "metadata": {
        "collapsed": false
      },
      "source": [
        "import pysap\n\nprint(pysap.__version__)"
      ],
      "execution_count": null,
      "outputs": []
    },
    {
      "cell_type": "markdown",
      "metadata": {},
      "source": [
        "Now you can run the the configuration info function to see if all the\ndependencies are installed properly:\n\n"
      ]
    },
    {
      "cell_type": "code",
      "metadata": {
        "collapsed": false
      },
      "source": [
        "import pysap.configure\n\nprint(pysap.configure.info())"
      ],
      "execution_count": null,
      "outputs": []
    },
    {
      "cell_type": "markdown",
      "metadata": {},
      "source": [
        "Import astronomical data\n------------------------\n\nThe package provides a common interface to import and visualize astronomical\nFITS dataset. It also embeds a set of toy dataset that will be used during\nthis tutorial:\n\n"
      ]
    },
    {
      "cell_type": "code",
      "metadata": {
        "collapsed": false
      },
      "source": [
        "import pysap\nfrom pprint import pprint\nfrom pysap.data import get_sample_data\n\nimage = get_sample_data(\"astro-fits\")\nprint(image.shape, image.spacing, image.data_type)\npprint(image.metadata)\nprint(image.data.dtype)\nimage.show()"
      ],
      "execution_count": null,
      "outputs": []
    },
    {
      "cell_type": "markdown",
      "metadata": {},
      "source": [
        "Import neuroimaging data\n------------------------\n\nThe package provides a common interface to import and visualize neuroimaging\nNIFTI dataset. It also embeds a set of toy dataset that will be used during\nthis tutorial:\n\n"
      ]
    },
    {
      "cell_type": "code",
      "metadata": {
        "collapsed": false
      },
      "source": [
        "import pysap\nfrom pprint import pprint\nfrom pysap.data import get_sample_data\n\nimage = get_sample_data(\"mri-nifti\")\nimage.scroll_axis = 2\nprint(image.shape, image.spacing, image.data_type)\npprint(image.metadata)\nprint(image.data.dtype)\nimage.show()"
      ],
      "execution_count": null,
      "outputs": []
    },
    {
      "cell_type": "markdown",
      "metadata": {},
      "source": [
        "Decompose/recompose an image using a fast ISAP/C++ based transform\n------------------------------------------------------------------\n\nThe package provides also a common interface to the ISAP C++ software\ndevelopped by the COSMOSTAT lab and PyWavelet. The code is optimzed and give\naccess to many decompsition strategies. All the decompositions\nhave been declared in a registery:\n\n"
      ]
    },
    {
      "cell_type": "code",
      "metadata": {
        "collapsed": false
      },
      "source": [
        "from pprint import pprint\nimport pysap\n\npprint(pysap.wavelist())\npprint(pysap.wavelist(family=\"isap-3d\"))"
      ],
      "execution_count": null,
      "outputs": []
    },
    {
      "cell_type": "markdown",
      "metadata": {},
      "source": [
        "We illustrate the the decompose/recompose using a 'Daubechies' from pywt\nand 4 scales:\n\n"
      ]
    },
    {
      "cell_type": "code",
      "metadata": {
        "collapsed": false
      },
      "source": [
        "import pysap\nfrom pysap.data import get_sample_data\n\nimage = get_sample_data(\"mri-slice-nifti\")\ntransform_klass = pysap.load_transform(\"db3\")\ntransform = transform_klass(nb_scale=4, verbose=1, padding_mode=\"symmetric\")\ntransform.data = image\ntransform.analysis()\ntransform.show()\nrec_image = transform.synthesis()\nrec_image.show()"
      ],
      "execution_count": null,
      "outputs": []
    },
    {
      "cell_type": "markdown",
      "metadata": {},
      "source": [
        "We illustrate the the decompose/recompose using a 'FastCurveletTransform'\nfrom ISAP and 4 scales:\n\n"
      ]
    },
    {
      "cell_type": "code",
      "metadata": {
        "collapsed": false
      },
      "source": [
        "image = get_sample_data(\"mri-slice-nifti\")\ntransform_klass = pysap.load_transform(\"FastCurveletTransform\")\ntransform = transform_klass(nb_scale=4, verbose=1, padding_mode=\"zero\")\ntransform.data = image\ntransform.analysis()\ntransform.show()\nrec_image = transform.synthesis()\nrec_image.show()"
      ],
      "execution_count": null,
      "outputs": []
    }
  ],
  "metadata": {
    "language_info": {
      "pygments_lexer": "ipython3",
      "name": "python",
      "version": "3.5.2",
      "mimetype": "text/x-python",
      "nbconvert_exporter": "python",
      "codemirror_mode": {
        "name": "ipython",
        "version": 3
      },
      "file_extension": ".py"
    },
    "kernelspec": {
      "display_name": "Python 3",
      "name": "python3",
      "language": "python"
    }
  },
  "nbformat": 4,
  "nbformat_minor": 0
}