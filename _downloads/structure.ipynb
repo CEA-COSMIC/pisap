{
  "nbformat_minor": 0, 
  "nbformat": 4, 
  "cells": [
    {
      "execution_count": null, 
      "cell_type": "code", 
      "source": [
        "%matplotlib inline"
      ], 
      "outputs": [], 
      "metadata": {
        "collapsed": false
      }
    }, 
    {
      "source": [
        "\nAnstronomic/Neuroimaging common structure overview\n==================================================\n\nCredit: A Grigis\n\npysap is a Python package related to sparsity and its application in\nastronomical or mediacal data analysis. This package also bind the 'sparse2d'\nC++ library that allows fast and extended sparse decomposition, denoising and\ndeconvolution. It is accessible to everybody, and is reusable in various\ncontexts. The project is hosted on github: https://github.com/neurospin/pysap.\n\nFirst checks\n------------\n\nIn order to test if the 'pysap' package is installed on your machine, you can\ncheck the package version\n\n"
      ], 
      "cell_type": "markdown", 
      "metadata": {}
    }, 
    {
      "execution_count": null, 
      "cell_type": "code", 
      "source": [
        "import pysap\n\nprint pysap.__version__"
      ], 
      "outputs": [], 
      "metadata": {
        "collapsed": false
      }
    }, 
    {
      "source": [
        "Now you can run the the configuration info function to see if all the\ndependencies are installed properly:\n\n"
      ], 
      "cell_type": "markdown", 
      "metadata": {}
    }, 
    {
      "execution_count": null, 
      "cell_type": "code", 
      "source": [
        "import pysap.configure\n\nprint pysap.configure.info()"
      ], 
      "outputs": [], 
      "metadata": {
        "collapsed": false
      }
    }, 
    {
      "source": [
        "Import astronomical data\n------------------------\n\nThe package provides a common interface to import and visualize astronomical\nFITS dataset. It also embeds a set of toy dataset that will be used during\nthis tutorial:\n\n"
      ], 
      "cell_type": "markdown", 
      "metadata": {}
    }, 
    {
      "execution_count": null, 
      "cell_type": "code", 
      "source": [
        "import pysap\nfrom pprint import pprint\nfrom pysap.data import get_sample_data\n\nimage = get_sample_data(\"astro-fits\")\nprint image.shape, image.spacing, image.data_type\npprint(image.metadata)\nprint image.data.dtype\nimage.show()"
      ], 
      "outputs": [], 
      "metadata": {
        "collapsed": false
      }
    }, 
    {
      "source": [
        "Import neuroimaging data\n------------------------\n\nThe package provides a common interface to import and visualize neuroimaging\nNIFTI dataset. It also embeds a set of toy dataset that will be used during\nthis tutorial:\n\n"
      ], 
      "cell_type": "markdown", 
      "metadata": {}
    }, 
    {
      "execution_count": null, 
      "cell_type": "code", 
      "source": [
        "import pysap\nfrom pprint import pprint\nfrom pysap.data import get_sample_data\n\nimage = get_sample_data(\"mri-nifti\")\nimage.scroll_axis = 2\nprint image.shape, image.spacing, image.data_type\npprint(image.metadata)\nprint image.data.dtype\nimage.show()"
      ], 
      "outputs": [], 
      "metadata": {
        "collapsed": false
      }
    }, 
    {
      "source": [
        "Decompose/recompose an image using a fast ISAP/C++ based transform\n------------------------------------------------------------------\n\nThe package provides also a common interface to the ISAP C++ software\ndevelopped by the COSMOSTAT lab. The code is optimzed and give access to\nmany decompsition strategies. All the ISAP library decompositions have\nbeen declared in a registery:\n\n"
      ], 
      "cell_type": "markdown", 
      "metadata": {}
    }, 
    {
      "execution_count": null, 
      "cell_type": "code", 
      "source": [
        "from pprint import pprint\nimport pysap\n\npprint(pysap.AVAILABLE_TRANSFORMS)"
      ], 
      "outputs": [], 
      "metadata": {
        "collapsed": false
      }
    }, 
    {
      "source": [
        "We illustrate the the decompose/recompose using a 'FastCurveletTransform'\nand 4 scales:\n\n"
      ], 
      "cell_type": "markdown", 
      "metadata": {}
    }, 
    {
      "execution_count": null, 
      "cell_type": "code", 
      "source": [
        "import pysap\nfrom pysap.data import get_sample_data\n\nimage = get_sample_data(\"mri-slice-nifti\")\ntransform_klass = pysap.load_transform(\"FastCurveletTransform\")\ntransform = transform_klass(nb_scale=4, verbose=1)\ntransform.data = image\ntransform.analysis()\ntransform.show()\nrec_image = transform.synthesis()\nrec_image.show()"
      ], 
      "outputs": [], 
      "metadata": {
        "collapsed": false
      }
    }
  ], 
  "metadata": {
    "kernelspec": {
      "display_name": "Python 2", 
      "name": "python2", 
      "language": "python"
    }, 
    "language_info": {
      "mimetype": "text/x-python", 
      "nbconvert_exporter": "python", 
      "name": "python", 
      "file_extension": ".py", 
      "version": "2.7.12", 
      "pygments_lexer": "ipython2", 
      "codemirror_mode": {
        "version": 2, 
        "name": "ipython"
      }
    }
  }
}