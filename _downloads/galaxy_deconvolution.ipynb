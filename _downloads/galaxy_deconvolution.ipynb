{
  "nbformat_minor": 0, 
  "nbformat": 4, 
  "cells": [
    {
      "execution_count": null, 
      "cell_type": "code", 
      "source": [
        "%matplotlib inline"
      ], 
      "outputs": [], 
      "metadata": {
        "collapsed": false
      }
    }, 
    {
      "source": [
        "\nGalaxy Image Deconvolution\n==========================\n\nCredit: S. Farrens\n\nIn this tutorial we will deconvolve the PSF effects from an example galaxy\nimage.\n\nImport astro data\n-----------------\n\nThe example galaxy image is convolved with the example PSF and random noise is\nadded simulating an observation with SNR~5.\n\n\n"
      ], 
      "cell_type": "markdown", 
      "metadata": {}
    }, 
    {
      "execution_count": null, 
      "cell_type": "code", 
      "source": [
        "import numpy as np\nfrom pysap import Image\nfrom pysap.data import get_sample_data\nfrom pysap.plugins.astro.deconvolve.deconvolve import sparse_deconv_condatvu\nfrom modopt.signal.noise import add_noise\nfrom modopt.math.convolve import convolve\n\n# Load the example images\ngalaxy = get_sample_data('astro-galaxy')\npsf = get_sample_data('astro-psf')\n\n# Show the clean galaxy image\ngalaxy.show()\n\n# Generate a noisy observed image\nobs_data = add_noise(convolve(galaxy.data, psf.data), sigma=0.0005)\nimage_obs = Image(data=np.abs(obs_data))\nimage_obs.show()\n\n# Deconvolve the observed image\ndeconv_data = sparse_deconv_condatvu(obs_data, psf.data)\nimage_rec = Image(data=np.abs(deconv_data))\nimage_rec.show()\n\n# Show the residual\nresidual = Image(data=np.abs(galaxy.data - deconv_data))\nresidual.show()"
      ], 
      "outputs": [], 
      "metadata": {
        "collapsed": false
      }
    }
  ], 
  "metadata": {
    "kernelspec": {
      "display_name": "Python 2", 
      "name": "python2", 
      "language": "python"
    }, 
    "language_info": {
      "mimetype": "text/x-python", 
      "nbconvert_exporter": "python", 
      "name": "python", 
      "file_extension": ".py", 
      "version": "2.7.12", 
      "pygments_lexer": "ipython2", 
      "codemirror_mode": {
        "version": 2, 
        "name": "ipython"
      }
    }
  }
}